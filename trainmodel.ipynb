{
 "cells": [
  {
   "cell_type": "code",
   "execution_count": 1,
   "id": "19ce7749",
   "metadata": {},
   "outputs": [],
   "source": [
    "from keras.utils import to_categorical\n",
    "from keras_preprocessing.image import load_img\n",
    "from keras.models import Sequential\n",
    "from keras.layers import Dense, Conv2D, Dropout, Flatten, MaxPooling2D\n",
    "import os\n",
    "import pandas as pd\n",
    "import numpy as np"
   ]
  },
  {
   "cell_type": "code",
   "execution_count": 2,
   "id": "02e9c221",
   "metadata": {},
   "outputs": [],
   "source": [
    "TRAIN_DIR = 'images/train'\n",
    "TEST_DIR = 'images/test'"
   ]
  },
  {
   "cell_type": "code",
   "execution_count": 3,
   "id": "ede9c1f1",
   "metadata": {},
   "outputs": [],
   "source": [
    "def createdataframe(dir):\n",
    "    image_paths = []\n",
    "    labels = []\n",
    "    for label in os.listdir(dir):\n",
    "        for imagename in os.listdir(os.path.join(dir,label)):\n",
    "            image_paths.append(os.path.join(dir,label,imagename))\n",
    "            labels.append(label)\n",
    "        print(label, \"completed\")\n",
    "    return image_paths,labels\n"
   ]
  },
  {
   "cell_type": "code",
   "execution_count": 4,
   "id": "a3a8f1a9",
   "metadata": {},
   "outputs": [
    {
     "name": "stdout",
     "output_type": "stream",
     "text": [
      "angry completed\n",
      "disgust completed\n",
      "fear completed\n",
      "happy completed\n",
      "neutral completed\n",
      "sad completed\n",
      "surprise completed\n"
     ]
    }
   ],
   "source": [
    "train = pd.DataFrame()\n",
    "train['image'], train['label'] = createdataframe(TRAIN_DIR)"
   ]
  },
  {
   "cell_type": "code",
   "execution_count": 5,
   "id": "c8a0cd29",
   "metadata": {},
   "outputs": [
    {
     "name": "stdout",
     "output_type": "stream",
     "text": [
      "                                image     label\n",
      "0            images/train\\angry\\0.jpg     angry\n",
      "1            images/train\\angry\\1.jpg     angry\n",
      "2           images/train\\angry\\10.jpg     angry\n",
      "3        images/train\\angry\\10002.jpg     angry\n",
      "4        images/train\\angry\\10016.jpg     angry\n",
      "...                               ...       ...\n",
      "28816  images/train\\surprise\\9969.jpg  surprise\n",
      "28817  images/train\\surprise\\9985.jpg  surprise\n",
      "28818  images/train\\surprise\\9990.jpg  surprise\n",
      "28819  images/train\\surprise\\9992.jpg  surprise\n",
      "28820  images/train\\surprise\\9996.jpg  surprise\n",
      "\n",
      "[28821 rows x 2 columns]\n"
     ]
    }
   ],
   "source": [
    "print(train)"
   ]
  },
  {
   "cell_type": "code",
   "execution_count": 6,
   "id": "7f9688fc",
   "metadata": {},
   "outputs": [
    {
     "name": "stdout",
     "output_type": "stream",
     "text": [
      "angry completed\n",
      "disgust completed\n",
      "fear completed\n",
      "happy completed\n",
      "neutral completed\n",
      "sad completed\n",
      "surprise completed\n"
     ]
    }
   ],
   "source": [
    "test = pd.DataFrame()\n",
    "test['image'], test['label'] = createdataframe(TEST_DIR)"
   ]
  },
  {
   "cell_type": "code",
   "execution_count": 7,
   "id": "7f504f5d",
   "metadata": {},
   "outputs": [
    {
     "name": "stdout",
     "output_type": "stream",
     "text": [
      "                              image     label\n",
      "0       images/test\\angry\\10052.jpg     angry\n",
      "1       images/test\\angry\\10065.jpg     angry\n",
      "2       images/test\\angry\\10079.jpg     angry\n",
      "3       images/test\\angry\\10095.jpg     angry\n",
      "4       images/test\\angry\\10121.jpg     angry\n",
      "...                             ...       ...\n",
      "7061  images/test\\surprise\\9806.jpg  surprise\n",
      "7062  images/test\\surprise\\9830.jpg  surprise\n",
      "7063  images/test\\surprise\\9853.jpg  surprise\n",
      "7064  images/test\\surprise\\9878.jpg  surprise\n",
      "7065   images/test\\surprise\\993.jpg  surprise\n",
      "\n",
      "[7066 rows x 2 columns]\n",
      "0         images/test\\angry\\10052.jpg\n",
      "1         images/test\\angry\\10065.jpg\n",
      "2         images/test\\angry\\10079.jpg\n",
      "3         images/test\\angry\\10095.jpg\n",
      "4         images/test\\angry\\10121.jpg\n",
      "                    ...              \n",
      "7061    images/test\\surprise\\9806.jpg\n",
      "7062    images/test\\surprise\\9830.jpg\n",
      "7063    images/test\\surprise\\9853.jpg\n",
      "7064    images/test\\surprise\\9878.jpg\n",
      "7065     images/test\\surprise\\993.jpg\n",
      "Name: image, Length: 7066, dtype: object\n"
     ]
    }
   ],
   "source": [
    "print(test)\n",
    "print(test['image'])"
   ]
  },
  {
   "cell_type": "code",
   "execution_count": 8,
   "id": "693324b0",
   "metadata": {},
   "outputs": [],
   "source": [
    "from tqdm.notebook import tqdm"
   ]
  },
  {
   "cell_type": "code",
   "execution_count": 9,
   "id": "f52ccbbe",
   "metadata": {},
   "outputs": [],
   "source": [
    "def extract_features(images):\n",
    "    features = []\n",
    "    for image in tqdm(images):\n",
    "        img = load_img(image,grayscale =  True )\n",
    "        img = np.array(img)\n",
    "        features.append(img)\n",
    "    features = np.array(features)\n",
    "    features = features.reshape(len(features),48,48,1)\n",
    "    return features\n",
    "    "
   ]
  },
  {
   "cell_type": "code",
   "execution_count": 10,
   "id": "942a9d40",
   "metadata": {},
   "outputs": [
    {
     "data": {
      "application/vnd.jupyter.widget-view+json": {
       "model_id": "9c00fc29588d4991ade8b8ff79431108",
       "version_major": 2,
       "version_minor": 0
      },
      "text/plain": [
       "  0%|          | 0/28821 [00:00<?, ?it/s]"
      ]
     },
     "metadata": {},
     "output_type": "display_data"
    },
    {
     "name": "stderr",
     "output_type": "stream",
     "text": [
      "C:\\Users\\Mayank Yadav\\anaconda\\lib\\site-packages\\keras_preprocessing\\image\\utils.py:107: UserWarning: grayscale is deprecated. Please use color_mode = \"grayscale\"\n",
      "  warnings.warn('grayscale is deprecated. Please use '\n"
     ]
    }
   ],
   "source": [
    "train_features = extract_features(train['image']) "
   ]
  },
  {
   "cell_type": "code",
   "execution_count": 11,
   "id": "c1b294ed",
   "metadata": {},
   "outputs": [
    {
     "data": {
      "application/vnd.jupyter.widget-view+json": {
       "model_id": "de89d51da31a42fb9619368fc4ab34fb",
       "version_major": 2,
       "version_minor": 0
      },
      "text/plain": [
       "  0%|          | 0/7066 [00:00<?, ?it/s]"
      ]
     },
     "metadata": {},
     "output_type": "display_data"
    }
   ],
   "source": [
    "test_features = extract_features(test['image'])"
   ]
  },
  {
   "cell_type": "code",
   "execution_count": 12,
   "id": "f78b5d34",
   "metadata": {},
   "outputs": [],
   "source": [
    "x_train = train_features/255.0\n",
    "x_test = test_features/255.0"
   ]
  },
  {
   "cell_type": "code",
   "execution_count": 13,
   "id": "c660fca1",
   "metadata": {},
   "outputs": [],
   "source": [
    "from sklearn.preprocessing import LabelEncoder"
   ]
  },
  {
   "cell_type": "code",
   "execution_count": 14,
   "id": "5384a25b",
   "metadata": {},
   "outputs": [
    {
     "data": {
      "text/html": [
       "<style>#sk-container-id-1 {color: black;background-color: white;}#sk-container-id-1 pre{padding: 0;}#sk-container-id-1 div.sk-toggleable {background-color: white;}#sk-container-id-1 label.sk-toggleable__label {cursor: pointer;display: block;width: 100%;margin-bottom: 0;padding: 0.3em;box-sizing: border-box;text-align: center;}#sk-container-id-1 label.sk-toggleable__label-arrow:before {content: \"▸\";float: left;margin-right: 0.25em;color: #696969;}#sk-container-id-1 label.sk-toggleable__label-arrow:hover:before {color: black;}#sk-container-id-1 div.sk-estimator:hover label.sk-toggleable__label-arrow:before {color: black;}#sk-container-id-1 div.sk-toggleable__content {max-height: 0;max-width: 0;overflow: hidden;text-align: left;background-color: #f0f8ff;}#sk-container-id-1 div.sk-toggleable__content pre {margin: 0.2em;color: black;border-radius: 0.25em;background-color: #f0f8ff;}#sk-container-id-1 input.sk-toggleable__control:checked~div.sk-toggleable__content {max-height: 200px;max-width: 100%;overflow: auto;}#sk-container-id-1 input.sk-toggleable__control:checked~label.sk-toggleable__label-arrow:before {content: \"▾\";}#sk-container-id-1 div.sk-estimator input.sk-toggleable__control:checked~label.sk-toggleable__label {background-color: #d4ebff;}#sk-container-id-1 div.sk-label input.sk-toggleable__control:checked~label.sk-toggleable__label {background-color: #d4ebff;}#sk-container-id-1 input.sk-hidden--visually {border: 0;clip: rect(1px 1px 1px 1px);clip: rect(1px, 1px, 1px, 1px);height: 1px;margin: -1px;overflow: hidden;padding: 0;position: absolute;width: 1px;}#sk-container-id-1 div.sk-estimator {font-family: monospace;background-color: #f0f8ff;border: 1px dotted black;border-radius: 0.25em;box-sizing: border-box;margin-bottom: 0.5em;}#sk-container-id-1 div.sk-estimator:hover {background-color: #d4ebff;}#sk-container-id-1 div.sk-parallel-item::after {content: \"\";width: 100%;border-bottom: 1px solid gray;flex-grow: 1;}#sk-container-id-1 div.sk-label:hover label.sk-toggleable__label {background-color: #d4ebff;}#sk-container-id-1 div.sk-serial::before {content: \"\";position: absolute;border-left: 1px solid gray;box-sizing: border-box;top: 0;bottom: 0;left: 50%;z-index: 0;}#sk-container-id-1 div.sk-serial {display: flex;flex-direction: column;align-items: center;background-color: white;padding-right: 0.2em;padding-left: 0.2em;position: relative;}#sk-container-id-1 div.sk-item {position: relative;z-index: 1;}#sk-container-id-1 div.sk-parallel {display: flex;align-items: stretch;justify-content: center;background-color: white;position: relative;}#sk-container-id-1 div.sk-item::before, #sk-container-id-1 div.sk-parallel-item::before {content: \"\";position: absolute;border-left: 1px solid gray;box-sizing: border-box;top: 0;bottom: 0;left: 50%;z-index: -1;}#sk-container-id-1 div.sk-parallel-item {display: flex;flex-direction: column;z-index: 1;position: relative;background-color: white;}#sk-container-id-1 div.sk-parallel-item:first-child::after {align-self: flex-end;width: 50%;}#sk-container-id-1 div.sk-parallel-item:last-child::after {align-self: flex-start;width: 50%;}#sk-container-id-1 div.sk-parallel-item:only-child::after {width: 0;}#sk-container-id-1 div.sk-dashed-wrapped {border: 1px dashed gray;margin: 0 0.4em 0.5em 0.4em;box-sizing: border-box;padding-bottom: 0.4em;background-color: white;}#sk-container-id-1 div.sk-label label {font-family: monospace;font-weight: bold;display: inline-block;line-height: 1.2em;}#sk-container-id-1 div.sk-label-container {text-align: center;}#sk-container-id-1 div.sk-container {/* jupyter's `normalize.less` sets `[hidden] { display: none; }` but bootstrap.min.css set `[hidden] { display: none !important; }` so we also need the `!important` here to be able to override the default hidden behavior on the sphinx rendered scikit-learn.org. See: https://github.com/scikit-learn/scikit-learn/issues/21755 */display: inline-block !important;position: relative;}#sk-container-id-1 div.sk-text-repr-fallback {display: none;}</style><div id=\"sk-container-id-1\" class=\"sk-top-container\"><div class=\"sk-text-repr-fallback\"><pre>LabelEncoder()</pre><b>In a Jupyter environment, please rerun this cell to show the HTML representation or trust the notebook. <br />On GitHub, the HTML representation is unable to render, please try loading this page with nbviewer.org.</b></div><div class=\"sk-container\" hidden><div class=\"sk-item\"><div class=\"sk-estimator sk-toggleable\"><input class=\"sk-toggleable__control sk-hidden--visually\" id=\"sk-estimator-id-1\" type=\"checkbox\" checked><label for=\"sk-estimator-id-1\" class=\"sk-toggleable__label sk-toggleable__label-arrow\">LabelEncoder</label><div class=\"sk-toggleable__content\"><pre>LabelEncoder()</pre></div></div></div></div></div>"
      ],
      "text/plain": [
       "LabelEncoder()"
      ]
     },
     "execution_count": 14,
     "metadata": {},
     "output_type": "execute_result"
    }
   ],
   "source": [
    "le = LabelEncoder()\n",
    "le.fit(train['label'])"
   ]
  },
  {
   "cell_type": "code",
   "execution_count": 15,
   "id": "50ece229",
   "metadata": {},
   "outputs": [],
   "source": [
    "y_train = le.transform(train['label'])\n",
    "y_test = le.transform(test['label'])"
   ]
  },
  {
   "cell_type": "code",
   "execution_count": 16,
   "id": "5e284299",
   "metadata": {},
   "outputs": [],
   "source": [
    "y_train = to_categorical(y_train,num_classes = 7)\n",
    "y_test = to_categorical(y_test,num_classes = 7)"
   ]
  },
  {
   "cell_type": "code",
   "execution_count": 17,
   "id": "3977223a",
   "metadata": {},
   "outputs": [
    {
     "name": "stderr",
     "output_type": "stream",
     "text": [
      "C:\\Users\\Mayank Yadav\\anaconda\\lib\\site-packages\\keras\\src\\layers\\convolutional\\base_conv.py:99: UserWarning: Do not pass an `input_shape`/`input_dim` argument to a layer. When using Sequential models, prefer using an `Input(shape)` object as the first layer in the model instead.\n",
      "  super().__init__(\n"
     ]
    }
   ],
   "source": [
    "from tensorflow.keras.models import Sequential\n",
    "from tensorflow.keras.layers import Conv2D, MaxPooling2D, Dropout, Flatten, Dense, BatchNormalization\n",
    "\n",
    "model = Sequential()\n",
    "\n",
    "# convolutional layers\n",
    "model.add(Conv2D(128, kernel_size=(3,3), activation='relu', input_shape=(48,48,1)))\n",
    "model.add(MaxPooling2D(pool_size=(2,2)))\n",
    "model.add(BatchNormalization())\n",
    "model.add(Dropout(0.4))\n",
    "\n",
    "model.add(Conv2D(256, kernel_size=(3,3), activation='relu'))\n",
    "model.add(MaxPooling2D(pool_size=(2,2)))\n",
    "model.add(BatchNormalization())\n",
    "model.add(Dropout(0.4))\n",
    "\n",
    "model.add(Conv2D(512, kernel_size=(3,3), activation='relu'))\n",
    "model.add(MaxPooling2D(pool_size=(2,2)))\n",
    "model.add(BatchNormalization())\n",
    "model.add(Dropout(0.4))\n",
    "\n",
    "model.add(Conv2D(512, kernel_size=(3,3), activation='relu'))\n",
    "model.add(MaxPooling2D(pool_size=(2,2)))\n",
    "model.add(BatchNormalization())\n",
    "model.add(Dropout(0.4))\n",
    "\n",
    "model.add(Flatten())\n",
    "# fully connected layers\n",
    "model.add(Dense(512, activation='relu'))\n",
    "model.add(BatchNormalization())\n",
    "model.add(Dropout(0.4))\n",
    "model.add(Dense(256, activation='relu'))\n",
    "model.add(BatchNormalization())\n",
    "model.add(Dropout(0.3))\n",
    "# output layer\n",
    "model.add(Dense(7, activation='softmax'))\n"
   ]
  },
  {
   "cell_type": "code",
   "execution_count": 18,
   "id": "5cd0b130",
   "metadata": {},
   "outputs": [
    {
     "name": "stdout",
     "output_type": "stream",
     "text": [
      "Epoch 1/100\n",
      "\u001b[1m451/451\u001b[0m \u001b[32m━━━━━━━━━━━━━━━━━━━━\u001b[0m\u001b[37m\u001b[0m \u001b[1m198s\u001b[0m 430ms/step - accuracy: 0.1974 - loss: 2.2618 - val_accuracy: 0.2586 - val_loss: 1.8869\n",
      "Epoch 2/100\n",
      "\u001b[1m451/451\u001b[0m \u001b[32m━━━━━━━━━━━━━━━━━━━━\u001b[0m\u001b[37m\u001b[0m \u001b[1m204s\u001b[0m 453ms/step - accuracy: 0.3567 - loss: 1.6653 - val_accuracy: 0.4343 - val_loss: 1.4958\n",
      "Epoch 3/100\n",
      "\u001b[1m451/451\u001b[0m \u001b[32m━━━━━━━━━━━━━━━━━━━━\u001b[0m\u001b[37m\u001b[0m \u001b[1m217s\u001b[0m 480ms/step - accuracy: 0.4602 - loss: 1.4050 - val_accuracy: 0.4689 - val_loss: 1.4158\n",
      "Epoch 4/100\n",
      "\u001b[1m451/451\u001b[0m \u001b[32m━━━━━━━━━━━━━━━━━━━━\u001b[0m\u001b[37m\u001b[0m \u001b[1m207s\u001b[0m 458ms/step - accuracy: 0.5092 - loss: 1.2835 - val_accuracy: 0.5085 - val_loss: 1.2902\n",
      "Epoch 5/100\n",
      "\u001b[1m451/451\u001b[0m \u001b[32m━━━━━━━━━━━━━━━━━━━━\u001b[0m\u001b[37m\u001b[0m \u001b[1m201s\u001b[0m 446ms/step - accuracy: 0.5446 - loss: 1.2007 - val_accuracy: 0.5416 - val_loss: 1.2231\n",
      "Epoch 6/100\n",
      "\u001b[1m451/451\u001b[0m \u001b[32m━━━━━━━━━━━━━━━━━━━━\u001b[0m\u001b[37m\u001b[0m \u001b[1m204s\u001b[0m 452ms/step - accuracy: 0.5610 - loss: 1.1512 - val_accuracy: 0.5725 - val_loss: 1.1459\n",
      "Epoch 7/100\n",
      "\u001b[1m451/451\u001b[0m \u001b[32m━━━━━━━━━━━━━━━━━━━━\u001b[0m\u001b[37m\u001b[0m \u001b[1m198s\u001b[0m 438ms/step - accuracy: 0.5814 - loss: 1.1050 - val_accuracy: 0.5621 - val_loss: 1.1671\n",
      "Epoch 8/100\n",
      "\u001b[1m451/451\u001b[0m \u001b[32m━━━━━━━━━━━━━━━━━━━━\u001b[0m\u001b[37m\u001b[0m \u001b[1m199s\u001b[0m 440ms/step - accuracy: 0.5994 - loss: 1.0611 - val_accuracy: 0.5984 - val_loss: 1.0846\n",
      "Epoch 9/100\n",
      "\u001b[1m451/451\u001b[0m \u001b[32m━━━━━━━━━━━━━━━━━━━━\u001b[0m\u001b[37m\u001b[0m \u001b[1m200s\u001b[0m 443ms/step - accuracy: 0.6207 - loss: 1.0086 - val_accuracy: 0.5975 - val_loss: 1.0797\n",
      "Epoch 10/100\n",
      "\u001b[1m451/451\u001b[0m \u001b[32m━━━━━━━━━━━━━━━━━━━━\u001b[0m\u001b[37m\u001b[0m \u001b[1m205s\u001b[0m 454ms/step - accuracy: 0.6359 - loss: 0.9706 - val_accuracy: 0.5945 - val_loss: 1.0933\n",
      "Epoch 11/100\n",
      "\u001b[1m451/451\u001b[0m \u001b[32m━━━━━━━━━━━━━━━━━━━━\u001b[0m\u001b[37m\u001b[0m \u001b[1m204s\u001b[0m 451ms/step - accuracy: 0.6486 - loss: 0.9345 - val_accuracy: 0.5903 - val_loss: 1.1140\n",
      "Epoch 12/100\n",
      "\u001b[1m451/451\u001b[0m \u001b[32m━━━━━━━━━━━━━━━━━━━━\u001b[0m\u001b[37m\u001b[0m \u001b[1m204s\u001b[0m 452ms/step - accuracy: 0.6692 - loss: 0.8860 - val_accuracy: 0.5885 - val_loss: 1.1067\n",
      "Epoch 13/100\n",
      "\u001b[1m451/451\u001b[0m \u001b[32m━━━━━━━━━━━━━━━━━━━━\u001b[0m\u001b[37m\u001b[0m \u001b[1m204s\u001b[0m 453ms/step - accuracy: 0.6789 - loss: 0.8489 - val_accuracy: 0.5893 - val_loss: 1.1339\n",
      "Epoch 14/100\n",
      "\u001b[1m451/451\u001b[0m \u001b[32m━━━━━━━━━━━━━━━━━━━━\u001b[0m\u001b[37m\u001b[0m \u001b[1m205s\u001b[0m 455ms/step - accuracy: 0.6930 - loss: 0.8224 - val_accuracy: 0.6301 - val_loss: 1.0359\n",
      "Epoch 15/100\n",
      "\u001b[1m451/451\u001b[0m \u001b[32m━━━━━━━━━━━━━━━━━━━━\u001b[0m\u001b[37m\u001b[0m \u001b[1m203s\u001b[0m 450ms/step - accuracy: 0.7098 - loss: 0.7771 - val_accuracy: 0.6298 - val_loss: 1.0511\n",
      "Epoch 16/100\n",
      "\u001b[1m451/451\u001b[0m \u001b[32m━━━━━━━━━━━━━━━━━━━━\u001b[0m\u001b[37m\u001b[0m \u001b[1m205s\u001b[0m 454ms/step - accuracy: 0.7221 - loss: 0.7528 - val_accuracy: 0.6288 - val_loss: 1.0448\n",
      "Epoch 17/100\n",
      "\u001b[1m451/451\u001b[0m \u001b[32m━━━━━━━━━━━━━━━━━━━━\u001b[0m\u001b[37m\u001b[0m \u001b[1m205s\u001b[0m 455ms/step - accuracy: 0.7339 - loss: 0.7102 - val_accuracy: 0.6108 - val_loss: 1.1514\n",
      "Epoch 18/100\n",
      "\u001b[1m451/451\u001b[0m \u001b[32m━━━━━━━━━━━━━━━━━━━━\u001b[0m\u001b[37m\u001b[0m \u001b[1m204s\u001b[0m 452ms/step - accuracy: 0.7429 - loss: 0.6900 - val_accuracy: 0.6243 - val_loss: 1.1004\n",
      "Epoch 19/100\n",
      "\u001b[1m451/451\u001b[0m \u001b[32m━━━━━━━━━━━━━━━━━━━━\u001b[0m\u001b[37m\u001b[0m \u001b[1m202s\u001b[0m 449ms/step - accuracy: 0.7549 - loss: 0.6687 - val_accuracy: 0.6301 - val_loss: 1.1185\n",
      "Epoch 20/100\n",
      "\u001b[1m451/451\u001b[0m \u001b[32m━━━━━━━━━━━━━━━━━━━━\u001b[0m\u001b[37m\u001b[0m \u001b[1m204s\u001b[0m 452ms/step - accuracy: 0.7651 - loss: 0.6324 - val_accuracy: 0.6251 - val_loss: 1.1542\n",
      "Epoch 21/100\n",
      "\u001b[1m451/451\u001b[0m \u001b[32m━━━━━━━━━━━━━━━━━━━━\u001b[0m\u001b[37m\u001b[0m \u001b[1m214s\u001b[0m 474ms/step - accuracy: 0.7763 - loss: 0.6074 - val_accuracy: 0.6173 - val_loss: 1.1278\n",
      "Epoch 22/100\n",
      "\u001b[1m451/451\u001b[0m \u001b[32m━━━━━━━━━━━━━━━━━━━━\u001b[0m\u001b[37m\u001b[0m \u001b[1m215s\u001b[0m 476ms/step - accuracy: 0.7832 - loss: 0.5916 - val_accuracy: 0.6318 - val_loss: 1.1247\n",
      "Epoch 23/100\n",
      "\u001b[1m451/451\u001b[0m \u001b[32m━━━━━━━━━━━━━━━━━━━━\u001b[0m\u001b[37m\u001b[0m \u001b[1m214s\u001b[0m 475ms/step - accuracy: 0.7930 - loss: 0.5583 - val_accuracy: 0.6329 - val_loss: 1.1364\n",
      "Epoch 24/100\n",
      "\u001b[1m451/451\u001b[0m \u001b[32m━━━━━━━━━━━━━━━━━━━━\u001b[0m\u001b[37m\u001b[0m \u001b[1m218s\u001b[0m 483ms/step - accuracy: 0.8055 - loss: 0.5355 - val_accuracy: 0.6286 - val_loss: 1.2006\n",
      "Epoch 25/100\n",
      "\u001b[1m451/451\u001b[0m \u001b[32m━━━━━━━━━━━━━━━━━━━━\u001b[0m\u001b[37m\u001b[0m \u001b[1m200s\u001b[0m 444ms/step - accuracy: 0.8089 - loss: 0.5248 - val_accuracy: 0.6271 - val_loss: 1.2124\n",
      "Epoch 26/100\n",
      "\u001b[1m451/451\u001b[0m \u001b[32m━━━━━━━━━━━━━━━━━━━━\u001b[0m\u001b[37m\u001b[0m \u001b[1m205s\u001b[0m 454ms/step - accuracy: 0.8151 - loss: 0.5093 - val_accuracy: 0.6230 - val_loss: 1.2114\n",
      "Epoch 27/100\n",
      "\u001b[1m451/451\u001b[0m \u001b[32m━━━━━━━━━━━━━━━━━━━━\u001b[0m\u001b[37m\u001b[0m \u001b[1m201s\u001b[0m 446ms/step - accuracy: 0.8282 - loss: 0.4760 - val_accuracy: 0.6221 - val_loss: 1.2679\n",
      "Epoch 28/100\n",
      "\u001b[1m451/451\u001b[0m \u001b[32m━━━━━━━━━━━━━━━━━━━━\u001b[0m\u001b[37m\u001b[0m \u001b[1m201s\u001b[0m 445ms/step - accuracy: 0.8253 - loss: 0.4769 - val_accuracy: 0.6363 - val_loss: 1.1916\n",
      "Epoch 29/100\n",
      "\u001b[1m451/451\u001b[0m \u001b[32m━━━━━━━━━━━━━━━━━━━━\u001b[0m\u001b[37m\u001b[0m \u001b[1m212s\u001b[0m 469ms/step - accuracy: 0.8343 - loss: 0.4540 - val_accuracy: 0.6302 - val_loss: 1.2071\n",
      "Epoch 30/100\n",
      "\u001b[1m451/451\u001b[0m \u001b[32m━━━━━━━━━━━━━━━━━━━━\u001b[0m\u001b[37m\u001b[0m \u001b[1m217s\u001b[0m 480ms/step - accuracy: 0.8360 - loss: 0.4470 - val_accuracy: 0.6257 - val_loss: 1.2117\n",
      "Epoch 31/100\n",
      "\u001b[1m451/451\u001b[0m \u001b[32m━━━━━━━━━━━━━━━━━━━━\u001b[0m\u001b[37m\u001b[0m \u001b[1m216s\u001b[0m 479ms/step - accuracy: 0.8478 - loss: 0.4309 - val_accuracy: 0.6344 - val_loss: 1.2786\n",
      "Epoch 32/100\n",
      "\u001b[1m451/451\u001b[0m \u001b[32m━━━━━━━━━━━━━━━━━━━━\u001b[0m\u001b[37m\u001b[0m \u001b[1m217s\u001b[0m 481ms/step - accuracy: 0.8499 - loss: 0.4147 - val_accuracy: 0.6356 - val_loss: 1.2425\n",
      "Epoch 33/100\n",
      "\u001b[1m451/451\u001b[0m \u001b[32m━━━━━━━━━━━━━━━━━━━━\u001b[0m\u001b[37m\u001b[0m \u001b[1m217s\u001b[0m 481ms/step - accuracy: 0.8538 - loss: 0.4116 - val_accuracy: 0.6349 - val_loss: 1.2546\n",
      "Epoch 34/100\n",
      "\u001b[1m451/451\u001b[0m \u001b[32m━━━━━━━━━━━━━━━━━━━━\u001b[0m\u001b[37m\u001b[0m \u001b[1m216s\u001b[0m 478ms/step - accuracy: 0.8541 - loss: 0.4009 - val_accuracy: 0.6269 - val_loss: 1.2501\n",
      "Epoch 35/100\n",
      "\u001b[1m451/451\u001b[0m \u001b[32m━━━━━━━━━━━━━━━━━━━━\u001b[0m\u001b[37m\u001b[0m \u001b[1m216s\u001b[0m 480ms/step - accuracy: 0.8607 - loss: 0.3785 - val_accuracy: 0.6142 - val_loss: 1.3962\n",
      "Epoch 36/100\n",
      "\u001b[1m451/451\u001b[0m \u001b[32m━━━━━━━━━━━━━━━━━━━━\u001b[0m\u001b[37m\u001b[0m \u001b[1m214s\u001b[0m 474ms/step - accuracy: 0.8646 - loss: 0.3766 - val_accuracy: 0.6405 - val_loss: 1.3056\n",
      "Epoch 37/100\n",
      "\u001b[1m451/451\u001b[0m \u001b[32m━━━━━━━━━━━━━━━━━━━━\u001b[0m\u001b[37m\u001b[0m \u001b[1m217s\u001b[0m 482ms/step - accuracy: 0.8698 - loss: 0.3652 - val_accuracy: 0.6309 - val_loss: 1.3598\n",
      "Epoch 38/100\n",
      "\u001b[1m451/451\u001b[0m \u001b[32m━━━━━━━━━━━━━━━━━━━━\u001b[0m\u001b[37m\u001b[0m \u001b[1m218s\u001b[0m 484ms/step - accuracy: 0.8736 - loss: 0.3516 - val_accuracy: 0.6339 - val_loss: 1.3183\n",
      "Epoch 39/100\n",
      "\u001b[1m451/451\u001b[0m \u001b[32m━━━━━━━━━━━━━━━━━━━━\u001b[0m\u001b[37m\u001b[0m \u001b[1m217s\u001b[0m 480ms/step - accuracy: 0.8701 - loss: 0.3575 - val_accuracy: 0.6380 - val_loss: 1.3327\n",
      "Epoch 40/100\n",
      "\u001b[1m451/451\u001b[0m \u001b[32m━━━━━━━━━━━━━━━━━━━━\u001b[0m\u001b[37m\u001b[0m \u001b[1m216s\u001b[0m 480ms/step - accuracy: 0.8761 - loss: 0.3376 - val_accuracy: 0.6216 - val_loss: 1.4211\n",
      "Epoch 41/100\n",
      "\u001b[1m451/451\u001b[0m \u001b[32m━━━━━━━━━━━━━━━━━━━━\u001b[0m\u001b[37m\u001b[0m \u001b[1m215s\u001b[0m 477ms/step - accuracy: 0.8743 - loss: 0.3443 - val_accuracy: 0.6370 - val_loss: 1.3431\n",
      "Epoch 42/100\n",
      "\u001b[1m451/451\u001b[0m \u001b[32m━━━━━━━━━━━━━━━━━━━━\u001b[0m\u001b[37m\u001b[0m \u001b[1m215s\u001b[0m 476ms/step - accuracy: 0.8820 - loss: 0.3293 - val_accuracy: 0.6306 - val_loss: 1.3813\n",
      "Epoch 43/100\n",
      "\u001b[1m451/451\u001b[0m \u001b[32m━━━━━━━━━━━━━━━━━━━━\u001b[0m\u001b[37m\u001b[0m \u001b[1m215s\u001b[0m 476ms/step - accuracy: 0.8852 - loss: 0.3177 - val_accuracy: 0.6419 - val_loss: 1.3594\n",
      "Epoch 44/100\n",
      "\u001b[1m451/451\u001b[0m \u001b[32m━━━━━━━━━━━━━━━━━━━━\u001b[0m\u001b[37m\u001b[0m \u001b[1m215s\u001b[0m 476ms/step - accuracy: 0.8838 - loss: 0.3178 - val_accuracy: 0.6359 - val_loss: 1.3492\n",
      "Epoch 45/100\n",
      "\u001b[1m451/451\u001b[0m \u001b[32m━━━━━━━━━━━━━━━━━━━━\u001b[0m\u001b[37m\u001b[0m \u001b[1m215s\u001b[0m 476ms/step - accuracy: 0.8877 - loss: 0.3158 - val_accuracy: 0.6353 - val_loss: 1.3648\n",
      "Epoch 46/100\n",
      "\u001b[1m451/451\u001b[0m \u001b[32m━━━━━━━━━━━━━━━━━━━━\u001b[0m\u001b[37m\u001b[0m \u001b[1m215s\u001b[0m 477ms/step - accuracy: 0.8923 - loss: 0.3040 - val_accuracy: 0.6336 - val_loss: 1.4063\n",
      "Epoch 47/100\n",
      "\u001b[1m451/451\u001b[0m \u001b[32m━━━━━━━━━━━━━━━━━━━━\u001b[0m\u001b[37m\u001b[0m \u001b[1m215s\u001b[0m 477ms/step - accuracy: 0.8915 - loss: 0.3045 - val_accuracy: 0.6400 - val_loss: 1.3906\n",
      "Epoch 48/100\n",
      "\u001b[1m451/451\u001b[0m \u001b[32m━━━━━━━━━━━━━━━━━━━━\u001b[0m\u001b[37m\u001b[0m \u001b[1m209s\u001b[0m 462ms/step - accuracy: 0.8949 - loss: 0.2871 - val_accuracy: 0.6367 - val_loss: 1.4112\n",
      "Epoch 49/100\n",
      "\u001b[1m451/451\u001b[0m \u001b[32m━━━━━━━━━━━━━━━━━━━━\u001b[0m\u001b[37m\u001b[0m \u001b[1m210s\u001b[0m 465ms/step - accuracy: 0.8959 - loss: 0.2907 - val_accuracy: 0.6458 - val_loss: 1.4457\n"
     ]
    },
    {
     "name": "stdout",
     "output_type": "stream",
     "text": [
      "Epoch 50/100\n",
      "\u001b[1m451/451\u001b[0m \u001b[32m━━━━━━━━━━━━━━━━━━━━\u001b[0m\u001b[37m\u001b[0m \u001b[1m209s\u001b[0m 464ms/step - accuracy: 0.8997 - loss: 0.2786 - val_accuracy: 0.6373 - val_loss: 1.4021\n",
      "Epoch 51/100\n",
      "\u001b[1m451/451\u001b[0m \u001b[32m━━━━━━━━━━━━━━━━━━━━\u001b[0m\u001b[37m\u001b[0m \u001b[1m208s\u001b[0m 461ms/step - accuracy: 0.9061 - loss: 0.2690 - val_accuracy: 0.6380 - val_loss: 1.4192\n",
      "Epoch 52/100\n",
      "\u001b[1m451/451\u001b[0m \u001b[32m━━━━━━━━━━━━━━━━━━━━\u001b[0m\u001b[37m\u001b[0m \u001b[1m209s\u001b[0m 463ms/step - accuracy: 0.9031 - loss: 0.2718 - val_accuracy: 0.6282 - val_loss: 1.4277\n",
      "Epoch 53/100\n",
      "\u001b[1m451/451\u001b[0m \u001b[32m━━━━━━━━━━━━━━━━━━━━\u001b[0m\u001b[37m\u001b[0m \u001b[1m217s\u001b[0m 481ms/step - accuracy: 0.9054 - loss: 0.2705 - val_accuracy: 0.6390 - val_loss: 1.4172\n",
      "Epoch 54/100\n",
      "\u001b[1m451/451\u001b[0m \u001b[32m━━━━━━━━━━━━━━━━━━━━\u001b[0m\u001b[37m\u001b[0m \u001b[1m218s\u001b[0m 484ms/step - accuracy: 0.9092 - loss: 0.2539 - val_accuracy: 0.6329 - val_loss: 1.4734\n",
      "Epoch 55/100\n",
      "\u001b[1m451/451\u001b[0m \u001b[32m━━━━━━━━━━━━━━━━━━━━\u001b[0m\u001b[37m\u001b[0m \u001b[1m220s\u001b[0m 487ms/step - accuracy: 0.9054 - loss: 0.2647 - val_accuracy: 0.6325 - val_loss: 1.4234\n",
      "Epoch 56/100\n",
      "\u001b[1m451/451\u001b[0m \u001b[32m━━━━━━━━━━━━━━━━━━━━\u001b[0m\u001b[37m\u001b[0m \u001b[1m218s\u001b[0m 483ms/step - accuracy: 0.9071 - loss: 0.2616 - val_accuracy: 0.6360 - val_loss: 1.4491\n",
      "Epoch 57/100\n",
      "\u001b[1m451/451\u001b[0m \u001b[32m━━━━━━━━━━━━━━━━━━━━\u001b[0m\u001b[37m\u001b[0m \u001b[1m218s\u001b[0m 482ms/step - accuracy: 0.9064 - loss: 0.2640 - val_accuracy: 0.6265 - val_loss: 1.4953\n",
      "Epoch 58/100\n",
      "\u001b[1m451/451\u001b[0m \u001b[32m━━━━━━━━━━━━━━━━━━━━\u001b[0m\u001b[37m\u001b[0m \u001b[1m218s\u001b[0m 483ms/step - accuracy: 0.9141 - loss: 0.2427 - val_accuracy: 0.6240 - val_loss: 1.5339\n",
      "Epoch 59/100\n",
      "\u001b[1m451/451\u001b[0m \u001b[32m━━━━━━━━━━━━━━━━━━━━\u001b[0m\u001b[37m\u001b[0m \u001b[1m218s\u001b[0m 483ms/step - accuracy: 0.9160 - loss: 0.2406 - val_accuracy: 0.6363 - val_loss: 1.5155\n",
      "Epoch 60/100\n",
      "\u001b[1m451/451\u001b[0m \u001b[32m━━━━━━━━━━━━━━━━━━━━\u001b[0m\u001b[37m\u001b[0m \u001b[1m208s\u001b[0m 460ms/step - accuracy: 0.9106 - loss: 0.2496 - val_accuracy: 0.6262 - val_loss: 1.6106\n",
      "Epoch 61/100\n",
      "\u001b[1m451/451\u001b[0m \u001b[32m━━━━━━━━━━━━━━━━━━━━\u001b[0m\u001b[37m\u001b[0m \u001b[1m199s\u001b[0m 441ms/step - accuracy: 0.9187 - loss: 0.2331 - val_accuracy: 0.6357 - val_loss: 1.5194\n",
      "Epoch 62/100\n",
      "\u001b[1m451/451\u001b[0m \u001b[32m━━━━━━━━━━━━━━━━━━━━\u001b[0m\u001b[37m\u001b[0m \u001b[1m199s\u001b[0m 441ms/step - accuracy: 0.9179 - loss: 0.2350 - val_accuracy: 0.6288 - val_loss: 1.5288\n",
      "Epoch 63/100\n",
      "\u001b[1m451/451\u001b[0m \u001b[32m━━━━━━━━━━━━━━━━━━━━\u001b[0m\u001b[37m\u001b[0m \u001b[1m204s\u001b[0m 452ms/step - accuracy: 0.9190 - loss: 0.2328 - val_accuracy: 0.6404 - val_loss: 1.5214\n",
      "Epoch 64/100\n",
      "\u001b[1m451/451\u001b[0m \u001b[32m━━━━━━━━━━━━━━━━━━━━\u001b[0m\u001b[37m\u001b[0m \u001b[1m205s\u001b[0m 455ms/step - accuracy: 0.9162 - loss: 0.2387 - val_accuracy: 0.6394 - val_loss: 1.5032\n",
      "Epoch 65/100\n",
      "\u001b[1m451/451\u001b[0m \u001b[32m━━━━━━━━━━━━━━━━━━━━\u001b[0m\u001b[37m\u001b[0m \u001b[1m203s\u001b[0m 450ms/step - accuracy: 0.9229 - loss: 0.2184 - val_accuracy: 0.6395 - val_loss: 1.5144\n",
      "Epoch 66/100\n",
      "\u001b[1m451/451\u001b[0m \u001b[32m━━━━━━━━━━━━━━━━━━━━\u001b[0m\u001b[37m\u001b[0m \u001b[1m202s\u001b[0m 447ms/step - accuracy: 0.9217 - loss: 0.2222 - val_accuracy: 0.6425 - val_loss: 1.5478\n",
      "Epoch 67/100\n",
      "\u001b[1m451/451\u001b[0m \u001b[32m━━━━━━━━━━━━━━━━━━━━\u001b[0m\u001b[37m\u001b[0m \u001b[1m202s\u001b[0m 447ms/step - accuracy: 0.9216 - loss: 0.2224 - val_accuracy: 0.6302 - val_loss: 1.6058\n",
      "Epoch 68/100\n",
      "\u001b[1m451/451\u001b[0m \u001b[32m━━━━━━━━━━━━━━━━━━━━\u001b[0m\u001b[37m\u001b[0m \u001b[1m202s\u001b[0m 448ms/step - accuracy: 0.9240 - loss: 0.2108 - val_accuracy: 0.6354 - val_loss: 1.5540\n",
      "Epoch 69/100\n",
      "\u001b[1m451/451\u001b[0m \u001b[32m━━━━━━━━━━━━━━━━━━━━\u001b[0m\u001b[37m\u001b[0m \u001b[1m202s\u001b[0m 448ms/step - accuracy: 0.9252 - loss: 0.2097 - val_accuracy: 0.6395 - val_loss: 1.5412\n",
      "Epoch 70/100\n",
      "\u001b[1m451/451\u001b[0m \u001b[32m━━━━━━━━━━━━━━━━━━━━\u001b[0m\u001b[37m\u001b[0m \u001b[1m202s\u001b[0m 447ms/step - accuracy: 0.9226 - loss: 0.2148 - val_accuracy: 0.6378 - val_loss: 1.5261\n",
      "Epoch 71/100\n",
      "\u001b[1m451/451\u001b[0m \u001b[32m━━━━━━━━━━━━━━━━━━━━\u001b[0m\u001b[37m\u001b[0m \u001b[1m202s\u001b[0m 447ms/step - accuracy: 0.9274 - loss: 0.2065 - val_accuracy: 0.6401 - val_loss: 1.5615\n",
      "Epoch 72/100\n",
      "\u001b[1m451/451\u001b[0m \u001b[32m━━━━━━━━━━━━━━━━━━━━\u001b[0m\u001b[37m\u001b[0m \u001b[1m202s\u001b[0m 449ms/step - accuracy: 0.9224 - loss: 0.2195 - val_accuracy: 0.6390 - val_loss: 1.5152\n",
      "Epoch 73/100\n",
      "\u001b[1m451/451\u001b[0m \u001b[32m━━━━━━━━━━━━━━━━━━━━\u001b[0m\u001b[37m\u001b[0m \u001b[1m202s\u001b[0m 448ms/step - accuracy: 0.9258 - loss: 0.2089 - val_accuracy: 0.6439 - val_loss: 1.5079\n",
      "Epoch 74/100\n",
      "\u001b[1m451/451\u001b[0m \u001b[32m━━━━━━━━━━━━━━━━━━━━\u001b[0m\u001b[37m\u001b[0m \u001b[1m213s\u001b[0m 471ms/step - accuracy: 0.9262 - loss: 0.2035 - val_accuracy: 0.6486 - val_loss: 1.5105\n",
      "Epoch 75/100\n",
      "\u001b[1m451/451\u001b[0m \u001b[32m━━━━━━━━━━━━━━━━━━━━\u001b[0m\u001b[37m\u001b[0m \u001b[1m200s\u001b[0m 443ms/step - accuracy: 0.9259 - loss: 0.2153 - val_accuracy: 0.6391 - val_loss: 1.5436\n",
      "Epoch 76/100\n",
      "\u001b[1m451/451\u001b[0m \u001b[32m━━━━━━━━━━━━━━━━━━━━\u001b[0m\u001b[37m\u001b[0m \u001b[1m232s\u001b[0m 515ms/step - accuracy: 0.9288 - loss: 0.2028 - val_accuracy: 0.6391 - val_loss: 1.5294\n",
      "Epoch 77/100\n",
      "\u001b[1m451/451\u001b[0m \u001b[32m━━━━━━━━━━━━━━━━━━━━\u001b[0m\u001b[37m\u001b[0m \u001b[1m251s\u001b[0m 556ms/step - accuracy: 0.9284 - loss: 0.2026 - val_accuracy: 0.6333 - val_loss: 1.5353\n",
      "Epoch 78/100\n",
      "\u001b[1m451/451\u001b[0m \u001b[32m━━━━━━━━━━━━━━━━━━━━\u001b[0m\u001b[37m\u001b[0m \u001b[1m243s\u001b[0m 540ms/step - accuracy: 0.9282 - loss: 0.2033 - val_accuracy: 0.6411 - val_loss: 1.5800\n",
      "Epoch 79/100\n",
      "\u001b[1m451/451\u001b[0m \u001b[32m━━━━━━━━━━━━━━━━━━━━\u001b[0m\u001b[37m\u001b[0m \u001b[1m244s\u001b[0m 541ms/step - accuracy: 0.9308 - loss: 0.1946 - val_accuracy: 0.6309 - val_loss: 1.6001\n",
      "Epoch 80/100\n",
      "\u001b[1m451/451\u001b[0m \u001b[32m━━━━━━━━━━━━━━━━━━━━\u001b[0m\u001b[37m\u001b[0m \u001b[1m241s\u001b[0m 535ms/step - accuracy: 0.9294 - loss: 0.2021 - val_accuracy: 0.6418 - val_loss: 1.5878\n",
      "Epoch 81/100\n",
      "\u001b[1m451/451\u001b[0m \u001b[32m━━━━━━━━━━━━━━━━━━━━\u001b[0m\u001b[37m\u001b[0m \u001b[1m232s\u001b[0m 515ms/step - accuracy: 0.9314 - loss: 0.1941 - val_accuracy: 0.6405 - val_loss: 1.5704\n",
      "Epoch 82/100\n",
      "\u001b[1m451/451\u001b[0m \u001b[32m━━━━━━━━━━━━━━━━━━━━\u001b[0m\u001b[37m\u001b[0m \u001b[1m258s\u001b[0m 573ms/step - accuracy: 0.9333 - loss: 0.1886 - val_accuracy: 0.6414 - val_loss: 1.5742\n",
      "Epoch 83/100\n",
      "\u001b[1m451/451\u001b[0m \u001b[32m━━━━━━━━━━━━━━━━━━━━\u001b[0m\u001b[37m\u001b[0m \u001b[1m257s\u001b[0m 570ms/step - accuracy: 0.9299 - loss: 0.1991 - val_accuracy: 0.6472 - val_loss: 1.6052\n",
      "Epoch 84/100\n",
      "\u001b[1m451/451\u001b[0m \u001b[32m━━━━━━━━━━━━━━━━━━━━\u001b[0m\u001b[37m\u001b[0m \u001b[1m250s\u001b[0m 555ms/step - accuracy: 0.9329 - loss: 0.1853 - val_accuracy: 0.6448 - val_loss: 1.5876\n",
      "Epoch 85/100\n",
      "\u001b[1m451/451\u001b[0m \u001b[32m━━━━━━━━━━━━━━━━━━━━\u001b[0m\u001b[37m\u001b[0m \u001b[1m245s\u001b[0m 543ms/step - accuracy: 0.9368 - loss: 0.1805 - val_accuracy: 0.6415 - val_loss: 1.6105\n",
      "Epoch 86/100\n",
      "\u001b[1m451/451\u001b[0m \u001b[32m━━━━━━━━━━━━━━━━━━━━\u001b[0m\u001b[37m\u001b[0m \u001b[1m240s\u001b[0m 532ms/step - accuracy: 0.9343 - loss: 0.1822 - val_accuracy: 0.6388 - val_loss: 1.6012\n",
      "Epoch 87/100\n",
      "\u001b[1m451/451\u001b[0m \u001b[32m━━━━━━━━━━━━━━━━━━━━\u001b[0m\u001b[37m\u001b[0m \u001b[1m236s\u001b[0m 524ms/step - accuracy: 0.9334 - loss: 0.1977 - val_accuracy: 0.6003 - val_loss: 1.6918\n",
      "Epoch 88/100\n",
      "\u001b[1m451/451\u001b[0m \u001b[32m━━━━━━━━━━━━━━━━━━━━\u001b[0m\u001b[37m\u001b[0m \u001b[1m241s\u001b[0m 534ms/step - accuracy: 0.9353 - loss: 0.1837 - val_accuracy: 0.6332 - val_loss: 1.6263\n",
      "Epoch 89/100\n",
      "\u001b[1m451/451\u001b[0m \u001b[32m━━━━━━━━━━━━━━━━━━━━\u001b[0m\u001b[37m\u001b[0m \u001b[1m244s\u001b[0m 541ms/step - accuracy: 0.9351 - loss: 0.1855 - val_accuracy: 0.6469 - val_loss: 1.6347\n",
      "Epoch 90/100\n",
      "\u001b[1m451/451\u001b[0m \u001b[32m━━━━━━━━━━━━━━━━━━━━\u001b[0m\u001b[37m\u001b[0m \u001b[1m240s\u001b[0m 533ms/step - accuracy: 0.9367 - loss: 0.1765 - val_accuracy: 0.6370 - val_loss: 1.6749\n",
      "Epoch 91/100\n",
      "\u001b[1m451/451\u001b[0m \u001b[32m━━━━━━━━━━━━━━━━━━━━\u001b[0m\u001b[37m\u001b[0m \u001b[1m225s\u001b[0m 499ms/step - accuracy: 0.9414 - loss: 0.1754 - val_accuracy: 0.6407 - val_loss: 1.6719\n",
      "Epoch 92/100\n",
      "\u001b[1m451/451\u001b[0m \u001b[32m━━━━━━━━━━━━━━━━━━━━\u001b[0m\u001b[37m\u001b[0m \u001b[1m243s\u001b[0m 538ms/step - accuracy: 0.9410 - loss: 0.1657 - val_accuracy: 0.6456 - val_loss: 1.6562\n",
      "Epoch 93/100\n",
      "\u001b[1m451/451\u001b[0m \u001b[32m━━━━━━━━━━━━━━━━━━━━\u001b[0m\u001b[37m\u001b[0m \u001b[1m244s\u001b[0m 542ms/step - accuracy: 0.9405 - loss: 0.1695 - val_accuracy: 0.6485 - val_loss: 1.6315\n",
      "Epoch 94/100\n",
      "\u001b[1m451/451\u001b[0m \u001b[32m━━━━━━━━━━━━━━━━━━━━\u001b[0m\u001b[37m\u001b[0m \u001b[1m244s\u001b[0m 541ms/step - accuracy: 0.9422 - loss: 0.1707 - val_accuracy: 0.6483 - val_loss: 1.6506\n",
      "Epoch 95/100\n",
      "\u001b[1m451/451\u001b[0m \u001b[32m━━━━━━━━━━━━━━━━━━━━\u001b[0m\u001b[37m\u001b[0m \u001b[1m243s\u001b[0m 540ms/step - accuracy: 0.9374 - loss: 0.1749 - val_accuracy: 0.6476 - val_loss: 1.6121\n",
      "Epoch 96/100\n",
      "\u001b[1m451/451\u001b[0m \u001b[32m━━━━━━━━━━━━━━━━━━━━\u001b[0m\u001b[37m\u001b[0m \u001b[1m244s\u001b[0m 540ms/step - accuracy: 0.9375 - loss: 0.1759 - val_accuracy: 0.6451 - val_loss: 1.6625\n",
      "Epoch 97/100\n",
      "\u001b[1m451/451\u001b[0m \u001b[32m━━━━━━━━━━━━━━━━━━━━\u001b[0m\u001b[37m\u001b[0m \u001b[1m242s\u001b[0m 537ms/step - accuracy: 0.9411 - loss: 0.1641 - val_accuracy: 0.6462 - val_loss: 1.6737\n",
      "Epoch 98/100\n",
      "\u001b[1m451/451\u001b[0m \u001b[32m━━━━━━━━━━━━━━━━━━━━\u001b[0m\u001b[37m\u001b[0m \u001b[1m243s\u001b[0m 539ms/step - accuracy: 0.9385 - loss: 0.1760 - val_accuracy: 0.6340 - val_loss: 1.6876\n"
     ]
    },
    {
     "name": "stdout",
     "output_type": "stream",
     "text": [
      "Epoch 99/100\n",
      "\u001b[1m451/451\u001b[0m \u001b[32m━━━━━━━━━━━━━━━━━━━━\u001b[0m\u001b[37m\u001b[0m \u001b[1m244s\u001b[0m 541ms/step - accuracy: 0.9400 - loss: 0.1708 - val_accuracy: 0.6387 - val_loss: 1.6754\n",
      "Epoch 100/100\n",
      "\u001b[1m451/451\u001b[0m \u001b[32m━━━━━━━━━━━━━━━━━━━━\u001b[0m\u001b[37m\u001b[0m \u001b[1m243s\u001b[0m 539ms/step - accuracy: 0.9435 - loss: 0.1589 - val_accuracy: 0.6162 - val_loss: 1.7910\n"
     ]
    }
   ],
   "source": [
    "from tensorflow.keras.callbacks import EarlyStopping\n",
    "\n",
    "# Define early stopping criteria\n",
    "early_stop = EarlyStopping(monitor='val_loss', patience=5, restore_best_weights=True)\n",
    "\n",
    "# Compile the model\n",
    "model.compile(optimizer='adam', loss='categorical_crossentropy', metrics=['accuracy'])\n",
    "\n",
    "# Train the model with early stopping\n",
    "history = model.fit(x= x_train, y = y_train, epochs=100, batch_size=64, validation_data=(x_test, y_test))\n"
   ]
  },
  {
   "cell_type": "code",
   "execution_count": 19,
   "id": "abc791f1",
   "metadata": {},
   "outputs": [
    {
     "name": "stdout",
     "output_type": "stream",
     "text": [
      "Training Accuracy: [0.23170605301856995, 0.38770341873168945, 0.47069844603538513, 0.5149717330932617, 0.54307621717453, 0.5607369542121887, 0.5791263580322266, 0.5981055498123169, 0.6144130825996399, 0.6272162795066833, 0.6412338018417358, 0.6610457897186279, 0.6726345419883728, 0.684535562992096, 0.6993858814239502, 0.7137503623962402, 0.7247840166091919, 0.7331459522247314, 0.7470247149467468, 0.7586135268211365, 0.7704104781150818, 0.7772804498672485, 0.7839075922966003, 0.7967454195022583, 0.8042052388191223, 0.8114222288131714, 0.8189514875411987, 0.8220741748809814, 0.8287706971168518, 0.8321362733840942, 0.8429964184761047, 0.8419902324676514, 0.8475417494773865, 0.8508726358413696, 0.8564241528511047, 0.8586447238922119, 0.8633981943130493, 0.8668332099914551, 0.8668332099914551, 0.8723153471946716, 0.872766375541687, 0.8778321146965027, 0.8804690837860107, 0.8793588280677795, 0.8836265206336975, 0.8877901434898376, 0.8890392184257507, 0.8898025751113892, 0.895319402217865, 0.8954928517341614, 0.8995524048805237, 0.8977828621864319, 0.9014260172843933, 0.904722273349762, 0.9029874205589294, 0.9058325290679932, 0.9036466479301453, 0.907324492931366, 0.9099962115287781, 0.9081919193267822, 0.9130842089653015, 0.9141598343849182, 0.9156864881515503, 0.913569986820221, 0.9186357259750366, 0.9188439249992371, 0.9183928370475769, 0.9198848009109497, 0.921584963798523, 0.9198501110076904, 0.92449951171875, 0.9232851266860962, 0.924777090549469, 0.9248117804527283, 0.9260608553886414, 0.9261302351951599, 0.9265466332435608, 0.9273099303245544, 0.9296693205833435, 0.9283855557441711, 0.9300510287284851, 0.9307102560997009, 0.928767204284668, 0.931959331035614, 0.9352208375930786, 0.9324104189872742, 0.9324451088905334, 0.9353943467140198, 0.9326532483100891, 0.9351861476898193, 0.9390721917152405, 0.9387599229812622, 0.9374067783355713, 0.9395232796669006, 0.9360882639884949, 0.9412928223609924, 0.9403212666511536, 0.9404253959655762, 0.9371291995048523, 0.9406335949897766]\n",
      "Validation Accuracy: [0.2585621178150177, 0.4343334138393402, 0.46886497735977173, 0.5084913969039917, 0.541607677936554, 0.5724596381187439, 0.562128484249115, 0.5983583331108093, 0.5975092053413391, 0.5945371985435486, 0.5902915596961975, 0.5884517431259155, 0.5893008708953857, 0.6300594210624695, 0.6297764182090759, 0.6287857294082642, 0.6108123660087585, 0.6242570281028748, 0.6300594210624695, 0.625106155872345, 0.6173223853111267, 0.6317577362060547, 0.6328898668289185, 0.6286442279815674, 0.6270874738693237, 0.6229832768440247, 0.6221341490745544, 0.6362864375114441, 0.630200982093811, 0.6256722211837769, 0.6344466209411621, 0.6355788111686707, 0.6348711848258972, 0.6269459128379822, 0.6142088770866394, 0.6405321359634399, 0.6309085488319397, 0.6338805556297302, 0.6379846930503845, 0.6215680837631226, 0.6369940638542175, 0.6306255459785461, 0.641947329044342, 0.635861873626709, 0.6352958083152771, 0.6335974931716919, 0.6399660110473633, 0.6367110013961792, 0.6457684636116028, 0.6372771263122559, 0.6379846930503845, 0.6282196640968323, 0.6389753818511963, 0.6328898668289185, 0.6324653029441833, 0.6360033750534058, 0.6265213489532471, 0.6239739656448364, 0.6362864375114441, 0.6262383460998535, 0.6357203722000122, 0.6287857294082642, 0.6403905749320984, 0.6393999457359314, 0.6395414471626282, 0.6425134539604187, 0.630200982093811, 0.6354373097419739, 0.6395414471626282, 0.6378431916236877, 0.6401075720787048, 0.6389753818511963, 0.6439286470413208, 0.6485989093780518, 0.6391168832778931, 0.6391168832778931, 0.6333144903182983, 0.6410982012748718, 0.6309085488319397, 0.6418058276176453, 0.6405321359634399, 0.6413812637329102, 0.6471837162971497, 0.6447778344154358, 0.6415227651596069, 0.6388338804244995, 0.6003396511077881, 0.6331729292869568, 0.6469006538391113, 0.6369940638542175, 0.6406736373901367, 0.645626962184906, 0.648457407951355, 0.6483159065246582, 0.6476082801818848, 0.6450608372688293, 0.6461930274963379, 0.634022057056427, 0.638692319393158, 0.6161901950836182]\n"
     ]
    }
   ],
   "source": [
    "# Print the accuracy values\n",
    "print(\"Training Accuracy:\", history.history['accuracy'])\n",
    "//print(\"Validation Accuracy:\", history.history['val_accuracy'])"
   ]
  },
  {
   "cell_type": "code",
   "execution_count": 20,
   "id": "2b0f1923",
   "metadata": {},
   "outputs": [
    {
     "name": "stderr",
     "output_type": "stream",
     "text": [
      "WARNING:absl:You are saving your model as an HDF5 file via `model.save()` or `keras.saving.save_model(model)`. This file format is considered legacy. We recommend using instead the native Keras format, e.g. `model.save('my_model.keras')` or `keras.saving.save_model(model, 'my_model.keras')`. \n"
     ]
    }
   ],
   "source": [
    "model_json = model.to_json()\n",
    "with open(\"emotiondetector.json\",'w') as json_file:\n",
    "    json_file.write(model_json)\n",
    "model.save(\"emotiondetector.h5\")"
   ]
  },
  {
   "cell_type": "code",
   "execution_count": 4,
   "id": "46e2098e",
   "metadata": {},
   "outputs": [],
   "source": [
    "from keras.models import model_from_json"
   ]
  },
  {
   "cell_type": "code",
   "execution_count": 5,
   "id": "90703547",
   "metadata": {},
   "outputs": [],
   "source": [
    "json_file = open(\"emotiondetector.json\", \"r\")\n",
    "model_json = json_file.read()\n",
    "json_file.close()\n",
    "model = model_from_json(model_json)\n",
    "model.load_weights(\"emotiondetector.h5\")"
   ]
  },
  {
   "cell_type": "code",
   "execution_count": 6,
   "id": "3932bbe8",
   "metadata": {},
   "outputs": [],
   "source": [
    "label = ['angry','disgust','fear','happy','neutral','sad','surprise']"
   ]
  },
  {
   "cell_type": "code",
   "execution_count": 7,
   "id": "b0ccbacf",
   "metadata": {},
   "outputs": [],
   "source": [
    "def ef(image):\n",
    "    img = load_img(image,grayscale =  True )\n",
    "    feature = np.array(img)\n",
    "    feature = feature.reshape(1,48,48,1)\n",
    "    return feature/255.0\n",
    "    "
   ]
  },
  {
   "cell_type": "code",
   "execution_count": 8,
   "id": "5882c78e",
   "metadata": {},
   "outputs": [
    {
     "name": "stdout",
     "output_type": "stream",
     "text": [
      "original image is of sad\n"
     ]
    },
    {
     "ename": "NameError",
     "evalue": "name 'load_img' is not defined",
     "output_type": "error",
     "traceback": [
      "\u001b[1;31m---------------------------------------------------------------------------\u001b[0m",
      "\u001b[1;31mNameError\u001b[0m                                 Traceback (most recent call last)",
      "Cell \u001b[1;32mIn[8], line 3\u001b[0m\n\u001b[0;32m      1\u001b[0m image \u001b[38;5;241m=\u001b[39m \u001b[38;5;124m'\u001b[39m\u001b[38;5;124mimages/train/sad/42.jpg\u001b[39m\u001b[38;5;124m'\u001b[39m\n\u001b[0;32m      2\u001b[0m \u001b[38;5;28mprint\u001b[39m(\u001b[38;5;124m\"\u001b[39m\u001b[38;5;124moriginal image is of sad\u001b[39m\u001b[38;5;124m\"\u001b[39m)\n\u001b[1;32m----> 3\u001b[0m img \u001b[38;5;241m=\u001b[39m \u001b[43mef\u001b[49m\u001b[43m(\u001b[49m\u001b[43mimage\u001b[49m\u001b[43m)\u001b[49m\n\u001b[0;32m      4\u001b[0m pred \u001b[38;5;241m=\u001b[39m model\u001b[38;5;241m.\u001b[39mpredict(img)\n\u001b[0;32m      5\u001b[0m pred_label \u001b[38;5;241m=\u001b[39m label[pred\u001b[38;5;241m.\u001b[39margmax()]\n",
      "Cell \u001b[1;32mIn[7], line 2\u001b[0m, in \u001b[0;36mef\u001b[1;34m(image)\u001b[0m\n\u001b[0;32m      1\u001b[0m \u001b[38;5;28;01mdef\u001b[39;00m \u001b[38;5;21mef\u001b[39m(image):\n\u001b[1;32m----> 2\u001b[0m     img \u001b[38;5;241m=\u001b[39m \u001b[43mload_img\u001b[49m(image,grayscale \u001b[38;5;241m=\u001b[39m  \u001b[38;5;28;01mTrue\u001b[39;00m )\n\u001b[0;32m      3\u001b[0m     feature \u001b[38;5;241m=\u001b[39m np\u001b[38;5;241m.\u001b[39marray(img)\n\u001b[0;32m      4\u001b[0m     feature \u001b[38;5;241m=\u001b[39m feature\u001b[38;5;241m.\u001b[39mreshape(\u001b[38;5;241m1\u001b[39m,\u001b[38;5;241m48\u001b[39m,\u001b[38;5;241m48\u001b[39m,\u001b[38;5;241m1\u001b[39m)\n",
      "\u001b[1;31mNameError\u001b[0m: name 'load_img' is not defined"
     ]
    }
   ],
   "source": [
    "image = 'images/train/sad/42.jpg'\n",
    "print(\"original image is of sad\")\n",
    "img = ef(image)\n",
    "pred = model.predict(img)\n",
    "pred_label = label[pred.argmax()]\n",
    "print(\"model prediction is \",pred_label)"
   ]
  },
  {
   "cell_type": "code",
   "execution_count": null,
   "id": "8994206c",
   "metadata": {},
   "outputs": [],
   "source": [
    "import matplotlib.pyplot as plt\n",
    "%matplotlib inline"
   ]
  },
  {
   "cell_type": "code",
   "execution_count": null,
   "id": "c83af9e1",
   "metadata": {},
   "outputs": [],
   "source": [
    "image = 'images/train/sad/42.jpg'\n",
    "print(\"original image is of sad\")\n",
    "img = ef(image)\n",
    "pred = model.predict(img)\n",
    "pred_label = label[pred.argmax()]\n",
    "print(\"model prediction is \",pred_label)\n",
    "plt.imshow(img.reshape(48,48),cmap='gray')"
   ]
  },
  {
   "cell_type": "code",
   "execution_count": null,
   "id": "5adb7b7a",
   "metadata": {},
   "outputs": [],
   "source": [
    "image = 'images/train/fear/2.jpg'\n",
    "print(\"original image is of fear\")\n",
    "img = ef(image)\n",
    "pred = model.predict(img)\n",
    "pred_label = label[pred.argmax()]\n",
    "print(\"model prediction is \",pred_label)\n",
    "plt.imshow(img.reshape(48,48),cmap='gray')"
   ]
  },
  {
   "cell_type": "code",
   "execution_count": null,
   "id": "e5ea96ba",
   "metadata": {},
   "outputs": [],
   "source": [
    "image = 'images/train/disgust/299.jpg'\n",
    "print(\"original image is of disgust\")\n",
    "img = ef(image)\n",
    "pred = model.predict(img)\n",
    "pred_label = label[pred.argmax()]\n",
    "print(\"model prediction is \",pred_label)\n",
    "plt.imshow(img.reshape(48,48),cmap='gray')"
   ]
  },
  {
   "cell_type": "code",
   "execution_count": null,
   "id": "1c4befa7",
   "metadata": {},
   "outputs": [],
   "source": [
    "image = 'images/train/happy/7.jpg'\n",
    "print(\"original image is of happy\")\n",
    "img = ef(image)\n",
    "pred = model.predict(img)\n",
    "pred_label = label[pred.argmax()]\n",
    "print(\"model prediction is \",pred_label)\n",
    "plt.imshow(img.reshape(48,48),cmap='gray')"
   ]
  },
  {
   "cell_type": "code",
   "execution_count": null,
   "id": "8d6bb2fa",
   "metadata": {},
   "outputs": [],
   "source": [
    "image = 'images/train/surprise/15.jpg'\n",
    "print(\"original image is of surprise\")\n",
    "img = ef(image)\n",
    "pred = model.predict(img)\n",
    "pred_label = label[pred.argmax()]\n",
    "print(\"model prediction is \",pred_label)\n",
    "plt.imshow(img.reshape(48,48),cmap='gray')"
   ]
  },
  {
   "cell_type": "code",
   "execution_count": null,
   "id": "b005764f",
   "metadata": {},
   "outputs": [],
   "source": []
  }
 ],
 "metadata": {
  "kernelspec": {
   "display_name": "Python 3 (ipykernel)",
   "language": "python",
   "name": "python3"
  },
  "language_info": {
   "codemirror_mode": {
    "name": "ipython",
    "version": 3
   },
   "file_extension": ".py",
   "mimetype": "text/x-python",
   "name": "python",
   "nbconvert_exporter": "python",
   "pygments_lexer": "ipython3",
   "version": "3.10.9"
  }
 },
 "nbformat": 4,
 "nbformat_minor": 5
}
